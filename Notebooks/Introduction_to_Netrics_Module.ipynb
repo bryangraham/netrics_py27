{
 "cells": [
  {
   "cell_type": "code",
   "execution_count": 22,
   "metadata": {
    "collapsed": true
   },
   "outputs": [],
   "source": [
    "# Import numpy in order to correctly read test data\n",
    "import numpy as np\n",
    "\n",
    "# Import urllib in order to download test data from Github repo\n",
    "import urllib\n",
    "\n",
    "# Append location of netrics module base directory to system path\n",
    "# NOTE: only required if permanent install not made (see comments above)\n",
    "import sys\n",
    "sys.path.append('/Users/bgraham/Dropbox/Sites/software/netrics/')\n",
    "\n",
    "# Load netrics module\n",
    "import netrics as netrics"
   ]
  },
  {
   "cell_type": "code",
   "execution_count": 23,
   "metadata": {
    "collapsed": true
   },
   "outputs": [],
   "source": [
    "data =  '/Users/bgraham/Dropbox/Teaching/Short_Courses/St_Gallen/Data/'"
   ]
  },
  {
   "cell_type": "code",
   "execution_count": 25,
   "metadata": {
    "collapsed": false
   },
   "outputs": [
    {
     "ename": "IOError",
     "evalue": "Failed to interpret file 'testdata.npz' as a pickle",
     "output_type": "error",
     "traceback": [
      "\u001b[0;31m---------------------------------------------------------------------------\u001b[0m",
      "\u001b[0;31mIOError\u001b[0m                                   Traceback (most recent call last)",
      "\u001b[0;32m<ipython-input-25-057daf05d728>\u001b[0m in \u001b[0;36m<module>\u001b[0;34m()\u001b[0m\n\u001b[1;32m      4\u001b[0m \u001b[0murllib\u001b[0m\u001b[0;34m.\u001b[0m\u001b[0murlretrieve\u001b[0m\u001b[0;34m(\u001b[0m\u001b[0murl\u001b[0m\u001b[0;34m,\u001b[0m \u001b[0;34m\"testdata.npz\"\u001b[0m\u001b[0;34m)\u001b[0m\u001b[0;34m\u001b[0m\u001b[0m\n\u001b[1;32m      5\u001b[0m \u001b[0;34m\u001b[0m\u001b[0m\n\u001b[0;32m----> 6\u001b[0;31m \u001b[0mNyakatokeTestDataset\u001b[0m \u001b[0;34m=\u001b[0m \u001b[0mnp\u001b[0m\u001b[0;34m.\u001b[0m\u001b[0mload\u001b[0m\u001b[0;34m(\u001b[0m\u001b[0;34m\"testdata.npz\"\u001b[0m\u001b[0;34m)\u001b[0m\u001b[0;34m\u001b[0m\u001b[0m\n\u001b[0m\u001b[1;32m      7\u001b[0m \u001b[0;34m\u001b[0m\u001b[0m\n\u001b[1;32m      8\u001b[0m \u001b[0;31m# Extract adjacency matrix\u001b[0m\u001b[0;34m\u001b[0m\u001b[0;34m\u001b[0m\u001b[0m\n",
      "\u001b[0;32m/Users/bgraham/anaconda/lib/python2.7/site-packages/numpy/lib/npyio.pyc\u001b[0m in \u001b[0;36mload\u001b[0;34m(file, mmap_mode, allow_pickle, fix_imports, encoding)\u001b[0m\n\u001b[1;32m    414\u001b[0m             \u001b[0;32mexcept\u001b[0m\u001b[0;34m:\u001b[0m\u001b[0;34m\u001b[0m\u001b[0m\n\u001b[1;32m    415\u001b[0m                 raise IOError(\n\u001b[0;32m--> 416\u001b[0;31m                     \"Failed to interpret file %s as a pickle\" % repr(file))\n\u001b[0m\u001b[1;32m    417\u001b[0m     \u001b[0;32mfinally\u001b[0m\u001b[0;34m:\u001b[0m\u001b[0;34m\u001b[0m\u001b[0m\n\u001b[1;32m    418\u001b[0m         \u001b[0;32mif\u001b[0m \u001b[0mown_fid\u001b[0m\u001b[0;34m:\u001b[0m\u001b[0;34m\u001b[0m\u001b[0m\n",
      "\u001b[0;31mIOError\u001b[0m: Failed to interpret file 'testdata.npz' as a pickle"
     ]
    }
   ],
   "source": [
    "import urllib\n",
    "\n",
    "url = \"https://github.com/bryangraham/netrics/blob/master/Notebooks/Nyakatoke_Example.npz\"\n",
    "urllib.urlretrieve(url, \"testdata.npz\")\n",
    "\n",
    "NyakatokeTestDataset = np.load(\"testdata.npz\")\n",
    "\n",
    "# Extract adjacency matrix\n",
    "D = NyakatokeTestDataset['D']\n",
    "\n",
    "# Initialize list of dyad-specific covariates as elements\n",
    "# W = [W0, W1, W2,...WK-1]\n",
    "W = []\n",
    "\n",
    "# Initialize list with covariate labels\n",
    "cov_names = []\n",
    "\n",
    "for matrix in NyakatokeTestDataset.files:\n",
    "    if matrix != 'D':\n",
    "        W.append(NyakatokeTestDataset[matrix])\n",
    "        cov_names.append(matrix)   "
   ]
  },
  {
   "cell_type": "code",
   "execution_count": 5,
   "metadata": {
    "collapsed": false
   },
   "outputs": [
    {
     "name": "stdout",
     "output_type": "stream",
     "text": [
      "Help on function tetrad_logit in module netrics.tetrad_logit:\n",
      "\n",
      "tetrad_logit(D, W, dtcon=None, silent=False, W_names=None)\n",
      "    AUTHOR: Bryan S. Graham, bgraham@econ.berkeley.edu, June 2016\n",
      "    \n",
      "    This function computes the Tetrad Logit estimator introduced in Graham (2014, NBER No. 20341) -- \"An Econometric\n",
      "    Model of Link Formation with Degree Heterogeneity\". The implementation is as described in the paper. Notation\n",
      "    attempts to follow that used in the paper.\n",
      "    \n",
      "    INPUTS\n",
      "    ------\n",
      "    D                 : N x N undirected adjacency matrix\n",
      "    W                 : List with elements consisting of N x N 2d numpy arrays of dyad-specific \n",
      "                        covariates such that W[k][i,j] gives the k-th covariate for dyad ij\n",
      "    dtcon             : Dyad and tetrad concordance (dtcon) List with elements [tetrad_to_dyads_indices, \n",
      "                        dyad_to_tetrads_dict]. If dtcon=None, then construct it using generate_tetrad_indices() \n",
      "                        function. See header to generate_tetrad_indices() for more information.\n",
      "    silent            : If True then suppress all optimization and estimation output, show output otherwise.  \n",
      "    W_names           : List of K strings giving names of the columns of W_tilde. If silent=False then use\n",
      "                        these in presentation of estimation output.\n",
      "                   \n",
      "    OUTPUTS\n",
      "    -------\n",
      "    beta_TL          :  K x 1 vector of tetrad logit point estimates of beta\n",
      "    vcov_beta_TL     :  K x K asymptotic-variance matrix for beta_TL \n",
      "                        NOTE: vcov_beta_TL is already \"divided by n\" (just take square root of diagonal for std. errs.)\n",
      "    tetrad_frac_TL   :  Fraction of tetrads that contribute to Tetrad Logit criterion function                    \n",
      "    success          :  corresponds to success component of OptimizeResult associated with Scipy's minimize function;\n",
      "                        success = True if the tetrad logit optimizer exited successfully\n",
      "            \n",
      "    \n",
      "    CALLS:           : ...logit()...\n",
      "                       ...organize_data_tetrad_logit()...\n",
      "    ------\n",
      "\n"
     ]
    }
   ],
   "source": [
    "help(netrics.tetrad_logit)"
   ]
  },
  {
   "cell_type": "code",
   "execution_count": 6,
   "metadata": {
    "collapsed": false
   },
   "outputs": [
    {
     "name": "stdout",
     "output_type": "stream",
     "text": [
      "Fisher-Scoring Derivative check (2-norm): 4.57554193\n",
      "Value of -logL = 138314.680877,  2-norm of score = 10101577.544622\n",
      "Value of -logL = 135183.591269,  2-norm of score = 1603975.420069\n",
      "Value of -logL = 135069.974405,  2-norm of score = 492089.108346\n",
      "Value of -logL = 134011.460951,  2-norm of score = 413744.450343\n",
      "Value of -logL = 93787.571645,  2-norm of score = 830153.017536\n",
      "Value of -logL = 91875.956996,  2-norm of score = 430594.215442\n",
      "Value of -logL = 91867.092976,  2-norm of score = 157526.350275\n",
      "Value of -logL = 69725.059019,  2-norm of score = 301850.567749\n",
      "Value of -logL = 35394.826820,  2-norm of score = 1086189.095323\n",
      "Value of -logL = 35327.139421,  2-norm of score = 69345.578435\n",
      "Value of -logL = 25293.129331,  2-norm of score = 122616.494534\n",
      "Value of -logL = 25291.839409,  2-norm of score = 51403.581954\n",
      "Value of -logL = 21958.483739,  2-norm of score = 42070.557935\n",
      "Value of -logL = 16115.674630,  2-norm of score = 43191.417137\n",
      "Value of -logL = 7673.495740,  2-norm of score = 80381.311840\n",
      "Value of -logL = 7672.216243,  2-norm of score = 15366.626150\n",
      "Value of -logL = 6838.684070,  2-norm of score = 13607.084116\n",
      "Value of -logL = 5343.395897,  2-norm of score = 10651.896279\n",
      "Value of -logL = 3030.363329,  2-norm of score = 8506.935648\n",
      "Value of -logL = 1111.599966,  2-norm of score = 6272.030817\n",
      "Value of -logL = 1100.671967,  2-norm of score = 3083.879145\n",
      "Value of -logL = 722.215589,  2-norm of score = 2042.798524\n",
      "Value of -logL = 265.189018,  2-norm of score = 798.327524\n",
      "Value of -logL = 97.538809,  2-norm of score = 303.591643\n",
      "Value of -logL = 35.894452,  2-norm of score = 113.208975\n",
      "Value of -logL = 13.210785,  2-norm of score = 41.867154\n",
      "Value of -logL = 4.862094,  2-norm of score = 15.433564\n",
      "Value of -logL = 1.789352,  2-norm of score = 5.682294\n",
      "Value of -logL = 0.658483,  2-norm of score = 2.091101\n",
      "Value of -logL = 0.242310,  2-norm of score = 0.769386\n",
      "Value of -logL = 0.089162,  2-norm of score = 0.283061\n",
      "Value of -logL = 0.032808,  2-norm of score = 0.104135\n",
      "Value of -logL = 0.012071,  2-norm of score = 0.038310\n",
      "Value of -logL = 0.004442,  2-norm of score = 0.014093\n",
      "Value of -logL = 0.001634,  2-norm of score = 0.005185\n",
      "Value of -logL = 0.000601,  2-norm of score = 0.001907\n",
      "Value of -logL = 0.000221,  2-norm of score = 0.000702\n",
      "Value of -logL = 0.000081,  2-norm of score = 0.000258\n",
      "Value of -logL = 0.000030,  2-norm of score = 0.000095\n",
      "Value of -logL = 0.000011,  2-norm of score = 0.000035\n",
      "Value of -logL = 0.000004,  2-norm of score = 0.000013\n",
      "Value of -logL = 0.000001,  2-norm of score = 0.000005\n",
      "Value of -logL = 0.000001,  2-norm of score = 0.000004\n",
      "Value of -logL = 0.000001,  2-norm of score = 0.000004\n",
      "Value of -logL = 0.000001,  2-norm of score = 0.000004\n",
      "Value of -logL = 0.000001,  2-norm of score = 0.000004\n",
      "Value of -logL = 0.000001,  2-norm of score = 0.000004\n",
      "Value of -logL = 0.000001,  2-norm of score = 0.000004\n",
      "Value of -logL = 0.000001,  2-norm of score = 0.000004\n",
      "Value of -logL = 0.000001,  2-norm of score = 0.000004\n",
      "Value of -logL = 0.000001,  2-norm of score = 0.000003\n",
      "Value of -logL = 0.000001,  2-norm of score = 0.000004\n",
      "Value of -logL = 0.000001,  2-norm of score = 0.000003\n",
      "Value of -logL = 0.000001,  2-norm of score = 0.000004\n",
      "Value of -logL = 0.000001,  2-norm of score = 0.000003\n",
      "Value of -logL = 0.000001,  2-norm of score = 0.000004\n",
      "Value of -logL = 0.000001,  2-norm of score = 0.000003\n",
      "Value of -logL = 0.000001,  2-norm of score = 0.000004\n",
      "Value of -logL = 0.000001,  2-norm of score = 0.000003\n",
      "Value of -logL = 0.000001,  2-norm of score = 0.000004\n",
      "Value of -logL = 0.000001,  2-norm of score = 0.000003\n",
      "Value of -logL = 0.000001,  2-norm of score = 0.000004\n",
      "Value of -logL = 0.000001,  2-norm of score = 0.000003\n",
      "Value of -logL = 0.000001,  2-norm of score = 0.000004\n",
      "Value of -logL = 0.000001,  2-norm of score = 0.000003\n",
      "Value of -logL = 0.000001,  2-norm of score = 0.000003\n",
      "Value of -logL = 0.000001,  2-norm of score = 0.000002\n",
      "Value of -logL = 0.000001,  2-norm of score = 0.000005\n",
      "Value of -logL = 0.000001,  2-norm of score = 0.000002\n",
      "Value of -logL = 0.000001,  2-norm of score = 0.000002\n",
      "Optimization terminated successfully.\n",
      "         Current function value: 0.000001\n",
      "         Iterations: 70\n",
      "         Function evaluations: 94\n",
      "         Gradient evaluations: 163\n",
      "         Hessian evaluations: 70\n",
      "\n",
      "-------------------------------------------------------------------------------------------\n",
      "- TETRAD LOGIT ESTIMATION RESULTS                                                         -\n",
      "-------------------------------------------------------------------------------------------\n",
      "\n",
      "Number of agents,           N :             115\n",
      "Number of dyads,            n :           6,555\n",
      "Number of tetrads             :       6,913,340\n",
      "Number identifying tetrads    :         102,151\n",
      "Fraction identifying tetrads  :        0.014776\n",
      "\n",
      "-------------------------------------------------------------------------------------------\n",
      "\n",
      "Independent variable       Coef.    ( Std. Err.) \n",
      "-------------------------------------------------------------------------------------------\n",
      "Distance                  -0.001051 (  0.000152)\n",
      "NonAdjacentWealthClass     0.365772 (  0.146380)\n",
      "OtherBlood                -0.122794 (  0.079493)\n",
      "SameReligion              13.032072 (  0.057990)\n",
      "SameEdLvl                  0.163078 (  0.068590)\n",
      "AgeDiff                    0.014389 (  0.072528)\n",
      "Sibling                   -0.005648 (  0.002812)\n",
      "SameClan                   0.740178 (  0.161713)\n",
      "AdjacentWealthClass        0.377399 (  0.096482)\n",
      "Cousin                    -0.146235 (  0.087564)\n",
      "\n",
      "-------------------------------------------------------------------------------------------\n"
     ]
    }
   ],
   "source": [
    "[beta_TL, vcov_beta_TL, tetrad_frac_TL, success] = \\\n",
    "    netrics.tetrad_logit(D, W, dtcon=None, silent=False, W_names=cov_names)"
   ]
  }
 ],
 "metadata": {
  "kernelspec": {
   "display_name": "Python [Root]",
   "language": "python",
   "name": "Python [Root]"
  },
  "language_info": {
   "codemirror_mode": {
    "name": "ipython",
    "version": 2
   },
   "file_extension": ".py",
   "mimetype": "text/x-python",
   "name": "python",
   "nbconvert_exporter": "python",
   "pygments_lexer": "ipython2",
   "version": "2.7.12"
  }
 },
 "nbformat": 4,
 "nbformat_minor": 0
}
