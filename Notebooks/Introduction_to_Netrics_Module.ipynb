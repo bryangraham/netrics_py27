{
 "cells": [
  {
   "cell_type": "code",
   "execution_count": 1,
   "metadata": {
    "collapsed": true
   },
   "outputs": [],
   "source": [
    "# Import numpy in order to correctly read test data\n",
    "import numpy as np\n",
    "\n",
    "# Import urllib in order to download test data from Github repo\n",
    "import urllib\n",
    "\n",
    "# Append location of netrics module base directory to system path\n",
    "# NOTE: only required if permanent install not made (see comments above)\n",
    "import sys\n",
    "sys.path.append('/Users/bgraham/Dropbox/Sites/software/netrics/')\n",
    "\n",
    "# Load netrics module\n",
    "import netrics as netrics"
   ]
  },
  {
   "cell_type": "code",
   "execution_count": 4,
   "metadata": {
    "collapsed": true
   },
   "outputs": [],
   "source": [
    "download =  '/Users/bgraham/Dropbox/sites/software/netrics/Notebooks/'"
   ]
  },
  {
   "cell_type": "code",
   "execution_count": 5,
   "metadata": {
    "collapsed": false
   },
   "outputs": [],
   "source": [
    "#url = 'https://github.com/bryangraham/netrics/blob/master/Notebooks/Nyakatoke_Example.npz'\n",
    "#urllib.urlretrieve(url, download + \"Nyakatoke_Example.npz\")\n",
    "\n",
    "\n",
    "\n",
    "NyakatokeTestDataset = np.load(download + \"Nyakatoke_Example.npz\")\n",
    "\n",
    "# Extract adjacency matrix\n",
    "D = NyakatokeTestDataset['D']\n",
    "\n",
    "# Initialize list of dyad-specific covariates as elements\n",
    "# W = [W0, W1, W2,...WK-1]\n",
    "W = []\n",
    "\n",
    "# Initialize list with covariate labels\n",
    "cov_names = []\n",
    "\n",
    "for matrix in NyakatokeTestDataset.files:\n",
    "    if matrix != 'D':\n",
    "        W.append(NyakatokeTestDataset[matrix])\n",
    "        cov_names.append(matrix)   "
   ]
  },
  {
   "cell_type": "code",
   "execution_count": null,
   "metadata": {
    "collapsed": false
   },
   "outputs": [],
   "source": [
    "help(netrics.tetrad_logit)"
   ]
  },
  {
   "cell_type": "code",
   "execution_count": null,
   "metadata": {
    "collapsed": false
   },
   "outputs": [],
   "source": [
    "[beta_TL, vcov_beta_TL, tetrad_frac_TL, success] = \\\n",
    "    netrics.tetrad_logit(D, W, dtcon=None, silent=False, W_names=cov_names)"
   ]
  }
 ],
 "metadata": {
  "kernelspec": {
   "display_name": "Python [Root]",
   "language": "python",
   "name": "Python [Root]"
  },
  "language_info": {
   "codemirror_mode": {
    "name": "ipython",
    "version": 2
   },
   "file_extension": ".py",
   "mimetype": "text/x-python",
   "name": "python",
   "nbconvert_exporter": "python",
   "pygments_lexer": "ipython2",
   "version": "2.7.12"
  }
 },
 "nbformat": 4,
 "nbformat_minor": 0
}
