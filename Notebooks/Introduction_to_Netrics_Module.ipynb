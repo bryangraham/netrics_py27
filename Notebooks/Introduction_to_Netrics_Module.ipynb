{
 "cells": [
  {
   "cell_type": "code",
   "execution_count": 1,
   "metadata": {
    "collapsed": true
   },
   "outputs": [],
   "source": [
    "# Import numpy in order to correctly read test data\n",
    "import numpy as np\n",
    "\n",
    "# Import urllib in order to download test data from Github repo\n",
    "import urllib\n",
    "\n",
    "# Append location of netrics module base directory to system path\n",
    "# NOTE: only required if permanent install not made (see comments above)\n",
    "import sys\n",
    "sys.path.append('/Users/bgraham/Dropbox/Sites/software/netrics/')\n",
    "\n",
    "# Load netrics module\n",
    "import netrics as netrics"
   ]
  },
  {
   "cell_type": "code",
   "execution_count": 2,
   "metadata": {
    "collapsed": true
   },
   "outputs": [],
   "source": [
    "download =  '/Users/bgraham/Dropbox/'"
   ]
  },
  {
   "cell_type": "code",
   "execution_count": 7,
   "metadata": {
    "collapsed": false
   },
   "outputs": [
    {
     "ename": "IOError",
     "evalue": "Failed to interpret file '/Users/bgraham/Dropbox/Nyakatoke_Example.zip' as a pickle",
     "output_type": "error",
     "traceback": [
      "\u001b[0;31m---------------------------------------------------------------------------\u001b[0m",
      "\u001b[0;31mIOError\u001b[0m                                   Traceback (most recent call last)",
      "\u001b[0;32m<ipython-input-7-1fd57353c00d>\u001b[0m in \u001b[0;36m<module>\u001b[0;34m()\u001b[0m\n\u001b[1;32m      5\u001b[0m \u001b[0;34m\u001b[0m\u001b[0m\n\u001b[1;32m      6\u001b[0m \u001b[0;34m\u001b[0m\u001b[0m\n\u001b[0;32m----> 7\u001b[0;31m \u001b[0mNyakatokeTestDataset\u001b[0m \u001b[0;34m=\u001b[0m \u001b[0mnp\u001b[0m\u001b[0;34m.\u001b[0m\u001b[0mload\u001b[0m\u001b[0;34m(\u001b[0m\u001b[0mdownload\u001b[0m \u001b[0;34m+\u001b[0m \u001b[0;34m\"Nyakatoke_Example.zip\"\u001b[0m\u001b[0;34m)\u001b[0m\u001b[0;34m\u001b[0m\u001b[0m\n\u001b[0m\u001b[1;32m      8\u001b[0m \u001b[0;34m\u001b[0m\u001b[0m\n\u001b[1;32m      9\u001b[0m \u001b[0;31m# Extract adjacency matrix\u001b[0m\u001b[0;34m\u001b[0m\u001b[0;34m\u001b[0m\u001b[0m\n",
      "\u001b[0;32m/Users/bgraham/anaconda/lib/python2.7/site-packages/numpy/lib/npyio.pyc\u001b[0m in \u001b[0;36mload\u001b[0;34m(file, mmap_mode, allow_pickle, fix_imports, encoding)\u001b[0m\n\u001b[1;32m    414\u001b[0m             \u001b[0;32mexcept\u001b[0m\u001b[0;34m:\u001b[0m\u001b[0;34m\u001b[0m\u001b[0m\n\u001b[1;32m    415\u001b[0m                 raise IOError(\n\u001b[0;32m--> 416\u001b[0;31m                     \"Failed to interpret file %s as a pickle\" % repr(file))\n\u001b[0m\u001b[1;32m    417\u001b[0m     \u001b[0;32mfinally\u001b[0m\u001b[0;34m:\u001b[0m\u001b[0;34m\u001b[0m\u001b[0m\n\u001b[1;32m    418\u001b[0m         \u001b[0;32mif\u001b[0m \u001b[0mown_fid\u001b[0m\u001b[0;34m:\u001b[0m\u001b[0;34m\u001b[0m\u001b[0m\n",
      "\u001b[0;31mIOError\u001b[0m: Failed to interpret file '/Users/bgraham/Dropbox/Nyakatoke_Example.zip' as a pickle"
     ]
    }
   ],
   "source": [
    "import urllib\n",
    "url = 'https://github.com/bryangraham/netrics/blob/master/Notebooks/Nyakatoke_Example.npz'\n",
    "urllib.urlretrieve(url, download + \"Nyakatoke_Example.zip\")\n",
    "\n",
    "\n",
    "\n",
    "NyakatokeTestDataset = np.load(download + \"Nyakatoke_Example.zip\")\n",
    "\n",
    "# Extract adjacency matrix\n",
    "D = NyakatokeTestDataset['D']\n",
    "\n",
    "# Initialize list of dyad-specific covariates as elements\n",
    "# W = [W0, W1, W2,...WK-1]\n",
    "W = []\n",
    "\n",
    "# Initialize list with covariate labels\n",
    "cov_names = []\n",
    "\n",
    "for matrix in NyakatokeTestDataset.files:\n",
    "    if matrix != 'D':\n",
    "        W.append(NyakatokeTestDataset[matrix])\n",
    "        cov_names.append(matrix)   "
   ]
  },
  {
   "cell_type": "code",
   "execution_count": 4,
   "metadata": {
    "collapsed": false
   },
   "outputs": [
    {
     "name": "stdout",
     "output_type": "stream",
     "text": [
      "Help on function tetrad_logit in module netrics.tetrad_logit:\n",
      "\n",
      "tetrad_logit(D, W, dtcon=None, silent=False, W_names=None)\n",
      "    AUTHOR: Bryan S. Graham, bgraham@econ.berkeley.edu, June 2016\n",
      "    \n",
      "    This function computes the Tetrad Logit estimator introduced in Graham (2014, NBER No. 20341) -- \"An Econometric\n",
      "    Model of Link Formation with Degree Heterogeneity\". The implementation is as described in the paper. Notation\n",
      "    attempts to follow that used in the paper.\n",
      "    \n",
      "    INPUTS\n",
      "    ------\n",
      "    D                 : N x N undirected adjacency matrix\n",
      "    W                 : List with elements consisting of N x N 2d numpy arrays of dyad-specific \n",
      "                        covariates such that W[k][i,j] gives the k-th covariate for dyad ij\n",
      "    dtcon             : Dyad and tetrad concordance (dtcon) List with elements [tetrad_to_dyads_indices, \n",
      "                        dyad_to_tetrads_dict]. If dtcon=None, then construct it using generate_tetrad_indices() \n",
      "                        function. See header to generate_tetrad_indices() for more information.\n",
      "    silent            : If True then suppress all optimization and estimation output, show output otherwise.  \n",
      "    W_names           : List of K strings giving names of the columns of W_tilde. If silent=False then use\n",
      "                        these in presentation of estimation output.\n",
      "                   \n",
      "    OUTPUTS\n",
      "    -------\n",
      "    beta_TL          :  K x 1 vector of tetrad logit point estimates of beta\n",
      "    vcov_beta_TL     :  K x K asymptotic-variance matrix for beta_TL \n",
      "                        NOTE: vcov_beta_TL is already \"divided by n\" (just take square root of diagonal for std. errs.)\n",
      "    tetrad_frac_TL   :  Fraction of tetrads that contribute to Tetrad Logit criterion function                    \n",
      "    success          :  corresponds to success component of OptimizeResult associated with Scipy's minimize function;\n",
      "                        success = True if the tetrad logit optimizer exited successfully\n",
      "            \n",
      "    \n",
      "    CALLS:           : ...logit()...\n",
      "                       ...organize_data_tetrad_logit()...\n",
      "    ------\n",
      "\n"
     ]
    }
   ],
   "source": [
    "help(netrics.tetrad_logit)"
   ]
  },
  {
   "cell_type": "code",
   "execution_count": null,
   "metadata": {
    "collapsed": false
   },
   "outputs": [],
   "source": [
    "[beta_TL, vcov_beta_TL, tetrad_frac_TL, success] = \\\n",
    "    netrics.tetrad_logit(D, W, dtcon=None, silent=False, W_names=cov_names)"
   ]
  }
 ],
 "metadata": {
  "kernelspec": {
   "display_name": "Python [Root]",
   "language": "python",
   "name": "Python [Root]"
  },
  "language_info": {
   "codemirror_mode": {
    "name": "ipython",
    "version": 2
   },
   "file_extension": ".py",
   "mimetype": "text/x-python",
   "name": "python",
   "nbconvert_exporter": "python",
   "pygments_lexer": "ipython2",
   "version": "2.7.12"
  }
 },
 "nbformat": 4,
 "nbformat_minor": 0
}
